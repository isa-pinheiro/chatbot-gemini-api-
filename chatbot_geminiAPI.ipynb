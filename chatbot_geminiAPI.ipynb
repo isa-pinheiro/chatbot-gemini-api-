{
  "nbformat": 4,
  "nbformat_minor": 0,
  "metadata": {
    "colab": {
      "provenance": []
    },
    "kernelspec": {
      "name": "python3",
      "display_name": "Python 3"
    },
    "language_info": {
      "name": "python"
    }
  },
  "cells": [
    {
      "cell_type": "code",
      "execution_count": null,
      "metadata": {
        "colab": {
          "base_uri": "https://localhost:8080/"
        },
        "id": "Ly4A-mXLbYsF",
        "outputId": "227885d9-cd82-4cc5-b018-dacc860da5f5"
      },
      "outputs": [
        {
          "output_type": "stream",
          "name": "stdout",
          "text": [
            "Requirement already satisfied: google-generativeai==0.7.0 in /usr/local/lib/python3.10/dist-packages (0.7.0)\n",
            "Requirement already satisfied: google-ai-generativelanguage==0.6.5 in /usr/local/lib/python3.10/dist-packages (from google-generativeai==0.7.0) (0.6.5)\n",
            "Requirement already satisfied: google-api-core in /usr/local/lib/python3.10/dist-packages (from google-generativeai==0.7.0) (2.16.2)\n",
            "Requirement already satisfied: google-api-python-client in /usr/local/lib/python3.10/dist-packages (from google-generativeai==0.7.0) (2.84.0)\n",
            "Requirement already satisfied: google-auth>=2.15.0 in /usr/local/lib/python3.10/dist-packages (from google-generativeai==0.7.0) (2.27.0)\n",
            "Requirement already satisfied: protobuf in /usr/local/lib/python3.10/dist-packages (from google-generativeai==0.7.0) (3.20.3)\n",
            "Requirement already satisfied: pydantic in /usr/local/lib/python3.10/dist-packages (from google-generativeai==0.7.0) (2.8.0)\n",
            "Requirement already satisfied: tqdm in /usr/local/lib/python3.10/dist-packages (from google-generativeai==0.7.0) (4.66.4)\n",
            "Requirement already satisfied: typing-extensions in /usr/local/lib/python3.10/dist-packages (from google-generativeai==0.7.0) (4.12.2)\n",
            "Requirement already satisfied: proto-plus<2.0.0dev,>=1.22.3 in /usr/local/lib/python3.10/dist-packages (from google-ai-generativelanguage==0.6.5->google-generativeai==0.7.0) (1.24.0)\n",
            "Requirement already satisfied: cachetools<6.0,>=2.0.0 in /usr/local/lib/python3.10/dist-packages (from google-auth>=2.15.0->google-generativeai==0.7.0) (5.3.3)\n",
            "Requirement already satisfied: pyasn1-modules>=0.2.1 in /usr/local/lib/python3.10/dist-packages (from google-auth>=2.15.0->google-generativeai==0.7.0) (0.4.0)\n",
            "Requirement already satisfied: rsa<5,>=3.1.4 in /usr/local/lib/python3.10/dist-packages (from google-auth>=2.15.0->google-generativeai==0.7.0) (4.9)\n",
            "Requirement already satisfied: googleapis-common-protos<2.0.dev0,>=1.56.2 in /usr/local/lib/python3.10/dist-packages (from google-api-core->google-generativeai==0.7.0) (1.63.2)\n",
            "Requirement already satisfied: requests<3.0.0.dev0,>=2.18.0 in /usr/local/lib/python3.10/dist-packages (from google-api-core->google-generativeai==0.7.0) (2.31.0)\n",
            "Requirement already satisfied: httplib2<1dev,>=0.15.0 in /usr/local/lib/python3.10/dist-packages (from google-api-python-client->google-generativeai==0.7.0) (0.22.0)\n",
            "Requirement already satisfied: google-auth-httplib2>=0.1.0 in /usr/local/lib/python3.10/dist-packages (from google-api-python-client->google-generativeai==0.7.0) (0.1.1)\n",
            "Requirement already satisfied: uritemplate<5,>=3.0.1 in /usr/local/lib/python3.10/dist-packages (from google-api-python-client->google-generativeai==0.7.0) (4.1.1)\n",
            "Requirement already satisfied: annotated-types>=0.4.0 in /usr/local/lib/python3.10/dist-packages (from pydantic->google-generativeai==0.7.0) (0.7.0)\n",
            "Requirement already satisfied: pydantic-core==2.20.0 in /usr/local/lib/python3.10/dist-packages (from pydantic->google-generativeai==0.7.0) (2.20.0)\n",
            "Requirement already satisfied: grpcio<2.0dev,>=1.33.2 in /usr/local/lib/python3.10/dist-packages (from google-api-core->google-generativeai==0.7.0) (1.64.1)\n",
            "Requirement already satisfied: grpcio-status<2.0.dev0,>=1.33.2 in /usr/local/lib/python3.10/dist-packages (from google-api-core->google-generativeai==0.7.0) (1.48.2)\n",
            "Requirement already satisfied: pyparsing!=3.0.0,!=3.0.1,!=3.0.2,!=3.0.3,<4,>=2.4.2 in /usr/local/lib/python3.10/dist-packages (from httplib2<1dev,>=0.15.0->google-api-python-client->google-generativeai==0.7.0) (3.1.2)\n",
            "Requirement already satisfied: pyasn1<0.7.0,>=0.4.6 in /usr/local/lib/python3.10/dist-packages (from pyasn1-modules>=0.2.1->google-auth>=2.15.0->google-generativeai==0.7.0) (0.6.0)\n",
            "Requirement already satisfied: charset-normalizer<4,>=2 in /usr/local/lib/python3.10/dist-packages (from requests<3.0.0.dev0,>=2.18.0->google-api-core->google-generativeai==0.7.0) (3.3.2)\n",
            "Requirement already satisfied: idna<4,>=2.5 in /usr/local/lib/python3.10/dist-packages (from requests<3.0.0.dev0,>=2.18.0->google-api-core->google-generativeai==0.7.0) (3.7)\n",
            "Requirement already satisfied: urllib3<3,>=1.21.1 in /usr/local/lib/python3.10/dist-packages (from requests<3.0.0.dev0,>=2.18.0->google-api-core->google-generativeai==0.7.0) (2.0.7)\n",
            "Requirement already satisfied: certifi>=2017.4.17 in /usr/local/lib/python3.10/dist-packages (from requests<3.0.0.dev0,>=2.18.0->google-api-core->google-generativeai==0.7.0) (2024.6.2)\n"
          ]
        }
      ],
      "source": [
        "!pip install google-generativeai==0.7.0"
      ]
    },
    {
      "cell_type": "code",
      "source": [
        "import google.generativeai as genai\n",
        "from google.generativeai.models import model_types\n",
        "from google.colab import userdata"
      ],
      "metadata": {
        "id": "7-LB9IySbxTE"
      },
      "execution_count": null,
      "outputs": []
    },
    {
      "cell_type": "code",
      "source": [
        "genai.configure(api_key=userdata.get('GOOGLE_GEMINI_API_KEY'))"
      ],
      "metadata": {
        "id": "4P_ANpDRcIYW"
      },
      "execution_count": null,
      "outputs": []
    },
    {
      "cell_type": "code",
      "source": [
        "for model in genai.list_models():\n",
        "    if 'generateContent' in model.supported_generation_methods:\n",
        "        print(model.name)"
      ],
      "metadata": {
        "colab": {
          "base_uri": "https://localhost:8080/",
          "height": 236
        },
        "id": "DEz3mt2oc9uz",
        "outputId": "cc2b1ade-44d6-4a99-c979-4049afab71d2"
      },
      "execution_count": null,
      "outputs": [
        {
          "output_type": "stream",
          "name": "stdout",
          "text": [
            "models/gemini-1.0-pro\n",
            "models/gemini-1.0-pro-001\n",
            "models/gemini-1.0-pro-latest\n",
            "models/gemini-1.0-pro-vision-latest\n",
            "models/gemini-1.5-flash\n",
            "models/gemini-1.5-flash-001\n",
            "models/gemini-1.5-flash-latest\n",
            "models/gemini-1.5-pro\n",
            "models/gemini-1.5-pro-001\n",
            "models/gemini-1.5-pro-latest\n",
            "models/gemini-pro\n",
            "models/gemini-pro-vision\n"
          ]
        }
      ]
    },
    {
      "cell_type": "code",
      "source": [
        "model = genai.GenerativeModel('gemini-1.5-pro-latest')"
      ],
      "metadata": {
        "id": "8FaXGbiWdMCc"
      },
      "execution_count": null,
      "outputs": []
    },
    {
      "cell_type": "code",
      "source": [
        "response = model.generate_content('Me diga algumas das principais pistas de GPs de Fórmula 1 ')\n",
        "print(response.text)\n"
      ],
      "metadata": {
        "colab": {
          "base_uri": "https://localhost:8080/",
          "height": 402
        },
        "id": "9Vt62ONjgWbp",
        "outputId": "4f0716f1-44be-4546-9cc2-bbbf4afd251f"
      },
      "execution_count": null,
      "outputs": [
        {
          "output_type": "stream",
          "name": "stdout",
          "text": [
            "Aqui estão alguns dos principais circuitos de GP de Fórmula 1, conhecidos pelas suas características e história distintas:\n",
            "\n",
            "**Clássicas e icônicas:**\n",
            "\n",
            "* **Spa-Francorchamps, Bélgica:** Adorado por suas curvas de alta velocidade, mudanças de elevação e clima imprevisível, especialmente a seção Eau Rouge/Raidillon.\n",
            "* **Monza, Itália:** O \"Templo da Velocidade\" com suas longas retas e alta velocidade média, um circuito favorável a ultrapassagens espetaculares. \n",
            "* **Silverstone, Grã-Bretanha:** Berço da Fórmula 1, com curvas de alta velocidade e fluidas, um verdadeiro teste da habilidade do piloto.\n",
            "* **Mônaco, Mônaco:** Um circuito de rua desafiador e estreito que percorre as ruas de Monte Carlo, conhecido por sua história de glamour e corrida estratégica.\n",
            "* **Suzuka, Japão:** Um traçado técnico e rápido com uma variedade de curvas, famoso pela desafiadora curva em \"S\" e por muitas vezes sediar corridas decisivas de campeonato.\n",
            "\n",
            "**Modernas e desafiadoras:**\n",
            "\n",
            "* **Circuito Internacional do Bahrein, Bahrein:** Uma pista moderna com uma superfície abrasiva, conhecida por suas longas retas e oportunidades de ultrapassagem.\n",
            "* **Circuito Gilles Villeneuve, Canadá:** Um circuito rápido e desafiador com chicanes e a famosa \"Parede dos Campeões\" na saída da última chicane. \n",
            "* **Red Bull Ring, Áustria:** Um circuito curto e rápido com mudanças de elevação e um cenário pitoresco, proporcionando corridas imprevisíveis.\n",
            "* **Circuito das Américas, Estados Unidos:** Um circuito moderno com uma longa reta e uma variedade de curvas inspiradas em outras pistas icônicas.\n",
            "* **Interlagos, Brasil:** Um traçado ondulado e técnico com um layout desafiador, conhecido por sediar corridas emocionantes e muitas vezes sob chuva.\n",
            "\n",
            "Esta é apenas uma pequena amostra dos muitos circuitos de GP de Fórmula 1 espetaculares ao redor do mundo. Cada um oferece seus próprios desafios e características únicas que contribuem para o drama e a emoção deste esporte. Você tem alguma pista específica em mente sobre a qual gostaria de saber mais? \n",
            "\n"
          ]
        }
      ]
    },
    {
      "cell_type": "code",
      "source": [
        "chat = model.start_chat(history=[])\n",
        "\n",
        "prompt = input('Esperando prompt:')\n",
        "\n",
        "while prompt != 'The End':\n",
        "    response = chat.send_message(prompt)\n",
        "    print(response.text)\n",
        "    prompt = input('Esperando prompt:')"
      ],
      "metadata": {
        "colab": {
          "base_uri": "https://localhost:8080/",
          "height": 1000
        },
        "id": "Rw-PW_cpg-IC",
        "outputId": "dc6ca5db-82b6-49fc-8c26-4c1bf4a334df"
      },
      "execution_count": null,
      "outputs": [
        {
          "name": "stdout",
          "output_type": "stream",
          "text": [
            "Esperando prompt:Fale dos principais campeões de formula 1\n",
            "## Os Gigantes da Velocidade: Mergulhando nos Maiores Campeões da Fórmula 1\n",
            "\n",
            "A história da Fórmula 1 é rica em rivalidades lendárias, momentos de tirar o fôlego e, claro, pilotos extraordinários que desafiaram os limites da velocidade e da habilidade humana. É difícil coroar apenas alguns, mas alguns nomes ressoam mais alto no salão da fama da F1. \n",
            "\n",
            "**Vamos conhecer alguns dos maiores campeões da categoria:**\n",
            "\n",
            "**1. Michael Schumacher (Alemanha):** O nome que reina supremo com 7 títulos mundiais (1994, 1995, 2000, 2001, 2002, 2003, 2004).  Schumacher, o \"Barão Vermelho\", dominou a Ferrari no início dos anos 2000, estabelecendo recordes impressionantes de vitórias (91), pódios (155) e voltas mais rápidas.  Sua determinação inabalável, ética de trabalho incansável e habilidade na chuva o tornaram uma força imparável.\n",
            "\n",
            "**2. Lewis Hamilton (Reino Unido):**  Igualando Schumacher com 7 títulos (2008, 2014, 2015, 2017, 2018, 2019, 2020), Hamilton é um ícone moderno da F1. Conhecido por seu estilo agressivo e talento natural, Hamilton detém o recorde de pole positions (103) e está sempre em busca de quebrar mais recordes, incluindo o de mais títulos. \n",
            "\n",
            "**3. Juan Manuel Fangio (Argentina):**  Uma lenda da era de ouro da F1 (década de 1950), Fangio conquistou 5 títulos (1951, 1954, 1955, 1956, 1957) em uma época onde o perigo era constante e a tecnologia, rudimentar.  Sua maestria em controlar carros imprevisíveis em circuitos perigosos o consagrou como um dos maiores talentos naturais da história.\n",
            "\n",
            "**4. Alain Prost (França):**  \"O Professor\", como era conhecido por sua inteligência tática, conquistou 4 títulos (1985, 1986, 1989, 1993).  Prost era um mestre em conservar o carro e os pneus, usando sua inteligência para superar seus rivais, incluindo seu arqui-inimigo, Ayrton Senna. \n",
            "\n",
            "**5. Ayrton Senna (Brasil):** Um ícone brasileiro e um dos pilotos mais carismáticos da F1, Senna conquistou 3 títulos (1988, 1990, 1991) com um estilo de pilotagem espetacular e agressivo. Sua rivalidade com Prost é lendária, e sua morte prematura em 1994 chocou o mundo, solidificando seu lugar como uma lenda.\n",
            "\n",
            "**Outros campeões memoráveis:**\n",
            "\n",
            "* **Sebastian Vettel (Alemanha):**  4 títulos (2010, 2011, 2012, 2013)\n",
            "* **Fernando Alonso (Espanha):** 2 títulos (2005, 2006)\n",
            "* **Niki Lauda (Áustria):** 3 títulos (1975, 1977, 1984)\n",
            "* **Jackie Stewart (Reino Unido):** 3 títulos (1969, 1971, 1973)\n",
            "\n",
            "Esses campeões, cada um com seu estilo e personalidade, ajudaram a moldar a história da Fórmula 1 e inspiraram gerações de fãs e futuros pilotos. Suas conquistas dentro e fora das pistas os tornam lendas do automobilismo e exemplos de paixão, dedicação e busca pela excelência. \n",
            "\n",
            "Esperando prompt:Fale agora das principais pistas de formula 1\n",
            "## As catedrais da velocidade: Conheça os templos do automobilismo na Fórmula 1\n",
            "\n",
            "A Fórmula 1 viaja o mundo, levando emoção e adrenalina para diferentes países, mas alguns circuitos se destacam como verdadeiros palcos de glórias e desafios épicos. Vamos acelerar por alguns dos autódromos mais icônicos da categoria:\n",
            "\n",
            "**1. Spa-Francorchamps (Bélgica):**  Um dos circuitos mais amados pelos pilotos e fãs, Spa é sinônimo de pura velocidade e curvas desafiadoras, como a Eau Rouge, que testam os limites da coragem dos competidores. Com um traçado longo e imprevisível, Spa proporciona corridas memoráveis, com ultrapassagens espetaculares e finais emocionantes.\n",
            "\n",
            "**2. Monza (Itália):** Conhecido como \"O Templo da Velocidade\", Monza é a casa da Ferrari e palco de corridas memoráveis. Com longas retas e curvas de alta, a velocidade máxima é a palavra de ordem em Monza, proporcionando um espetáculo único para os fãs da velocidade.\n",
            "\n",
            "**3. Silverstone (Reino Unido):** O berço da Fórmula 1, Silverstone sediou o primeiro Grande Prêmio da história, em 1950. Com um traçado rápido e fluido, Silverstone exige precisão e coragem dos pilotos, com curvas de alta como a Copse e a Maggotts-Becketts.\n",
            "\n",
            "**4. Mônaco (Mônaco):**  As ruas estreitas e glamourosas de Monte Carlo oferecem um desafio único na F1. Um circuito de baixa velocidade, mas de alta adrenalina, Mônaco exige precisão milimétrica dos pilotos, tornando as ultrapassagens raras e a corrida, imprevisível.\n",
            "\n",
            "**5. Suzuka (Japão):**  Projetado por um gênio da engenharia, Suzuka é um circuito técnico e desafiador, com uma sequência de curvas em \"S\" (Esses) que testam a habilidade e a coragem dos pilotos. Com um traçado rápido e implacável, Suzuka é um palco para grandes corridas e momentos memoráveis.\n",
            "\n",
            "**Outras pistas icônicas:**\n",
            "\n",
            "* **Interlagos (Brasil):** Palco de grandes momentos da F1, Interlagos é conhecida por seu traçado desafiador e pela paixão dos fãs brasileiros.\n",
            "* **Circuito das Américas (EUA):** Uma pista moderna com um traçado inspirado em outros circuitos icônicos, proporcionando uma variedade de curvas e desafios para os pilotos.\n",
            "* **Red Bull Ring (Áustria):**  Um circuito curto e rápido, com um visual deslumbrante nos Alpes austríacos, proporciona corridas emocionantes e imprevisíveis.\n",
            "\n",
            "Cada circuito da Fórmula 1 possui sua própria personalidade e desafios, testando as habilidades dos pilotos e proporcionando um espetáculo único para os fãs. Através de curvas desafiadoras, retas intermináveis e momentos emocionantes, essas pistas se tornam verdadeiros ícones do automobilismo, gravando seus nomes na história da categoria. \n",
            "\n",
            "Esperando prompt:Acabou\n",
            "Entendido! Espero que tenha gostado de saber mais sobre o mundo da Fórmula 1, com seus campeões lendários e circuitos icônicos. \n",
            "\n",
            "Se tiver curiosidade sobre outros aspectos da F1, como regras, carros, história ou qualquer outra curiosidade, pode me perguntar! Estou aqui para ajudar. \n",
            "\n",
            "Esperando prompt:The End\n"
          ]
        }
      ]
    }
  ]
}